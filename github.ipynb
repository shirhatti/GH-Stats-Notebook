{
 "cells": [
  {
   "cell_type": "code",
   "execution_count": 1,
   "metadata": {},
   "source": [
    "#r \"nuget:Octokit\"\n",
    "#r \"nuget:Microsoft.Data.Analysis\"\n",
    "#r \"nuget:XPlot.Plotly\""
   ],
   "outputs": []
  },
  {
   "cell_type": "code",
   "execution_count": 1,
   "metadata": {},
   "source": [
    "using Microsoft.Data.Analysis;\n",
    "using Octokit;\n",
    "using XPlot.Plotly;\n",
    "using System.Linq;"
   ],
   "outputs": []
  },
  {
   "cell_type": "code",
   "execution_count": 1,
   "metadata": {},
   "source": [
    "using Microsoft.AspNetCore.Html;\n",
    "Formatter.Register<DataFrame>((df, writer) =>\n",
    "{\n",
    "    var headers = new List<IHtmlContent>();\n",
    "    headers.Add(th(i(\"index\")));\n",
    "    headers.AddRange(df.Columns.Select(c => (IHtmlContent) th(c.Name)));\n",
    "    var rows = new List<List<IHtmlContent>>();\n",
    "    var take = 20;\n",
    "    for (var i = 0; i < Math.Min(take, df.Rows.Count); i++)\n",
    "    {\n",
    "        var cells = new List<IHtmlContent>();\n",
    "        cells.Add(td(i));\n",
    "        foreach (var obj in df.Rows[i])\n",
    "        {\n",
    "            cells.Add(td(obj));\n",
    "        }\n",
    "        rows.Add(cells);\n",
    "    }\n",
    "\n",
    "    var t = table(\n",
    "        thead(\n",
    "            headers),\n",
    "        tbody(\n",
    "            rows.Select(\n",
    "                r => tr(r))));\n",
    "\n",
    "    writer.Write(t);\n",
    "}, \"text/html\");"
   ],
   "outputs": []
  },
  {
   "cell_type": "code",
   "execution_count": 1,
   "metadata": {},
   "source": [
    "var github = new GitHubClient(new ProductHeaderValue(\"GH-Stats\"));"
   ],
   "outputs": []
  },
  {
   "cell_type": "code",
   "execution_count": 1,
   "metadata": {},
   "source": [
    "// var startTime = new DateTime(2019, 07, 01, 00, 00, 00);\n",
    "// var timeOffset = new DateTimeOffset(startTime, TimeZoneInfo.Local.GetUtcOffset(startTime));\n",
    "// var issueRequest = new RepositoryIssueRequest\n",
    "// {\n",
    "//     Since = timeOffset,\n",
    "//     SortDirection = SortDirection.Ascending\n",
    "// };\n",
    "// var wcfIssues = await github.Issue.GetAllForRepository(\"dotnet\", \"wcf\", issueRequest);\n",
    "var wcfIssues = await github.Issue.GetAllForRepository(\"dotnet\", \"wcf\");"
   ],
   "outputs": []
  },
  {
   "cell_type": "code",
   "execution_count": 1,
   "metadata": {},
   "source": [
    "var createdAtColumn = new PrimitiveDataFrameColumn<DateTimeOffset>(\"CreatedAt\");\n",
    "var closedAtColumn = new PrimitiveDataFrameColumn<DateTimeOffset>(\"ClosedAt\");\n",
    "var titleColumn = new StringDataFrameColumn(\"Title\", 0);\n",
    "foreach (var issue in wcfIssues)\n",
    "{\n",
    "    createdAtColumn.Append(issue.CreatedAt);\n",
    "    closedAtColumn.Append(issue.ClosedAt);\n",
    "    titleColumn.Append(issue.Title);\n",
    "}\n",
    "var df = new DataFrame(titleColumn, createdAtColumn, closedAtColumn);"
   ],
   "outputs": []
  },
  {
   "cell_type": "code",
   "execution_count": 1,
   "metadata": {},
   "source": [
    "var startTime = new DateTime(2020, 07, 01, 00, 00, 00);\n",
    "var starttimeOffset = new DateTimeOffset(startTime, TimeZoneInfo.Local.GetUtcOffset(startTime));\n",
    "// binSize = 1 week\n",
    "var binSize = (int) (DateTimeOffset.UtcNow - starttimeOffset).TotalDays/7;\n",
    "display(Chart.Plot(\n",
    "    new Graph.Histogram()\n",
    "    {\n",
    "        x = createdAtColumn.Filter(timeOffset, DateTimeOffset.MaxValue),\n",
    "        nbinsx = binSize\n",
    "    }\n",
    "))"
   ],
   "outputs": [
    {
     "output_type": "execute_result",
     "data": {
      "text/html": "<div id=\"2deae9db-33ea-4ae5-922f-6474d23508d1\" style=\"width: 900px; height: 500px;\"></div>\r\n<script type=\"text/javascript\">\r\n\r\nvar renderPlotly = function() {\r\n    var xplotRequire = require.config({context:'xplot-3.0.1',paths:{plotly:'https://cdn.plot.ly/plotly-1.49.2.min'}}) || require;\r\n    xplotRequire(['plotly'], function(Plotly) {\r\n\n            var data = [{\"type\":\"histogram\",\"x\":[\"2021-01-18T12:39:48+00:00\",\"2021-01-17T06:39:16+00:00\",\"2021-01-14T19:02:52+00:00\",\"2021-01-14T19:00:10+00:00\",\"2021-01-13T23:26:51+00:00\",\"2021-01-13T16:48:01+00:00\",\"2021-01-13T09:37:02+00:00\",\"2021-01-13T08:13:23+00:00\",\"2021-01-08T13:22:56+00:00\",\"2021-01-08T09:13:34+00:00\",\"2021-01-08T01:38:15+00:00\",\"2021-01-07T04:46:38+00:00\",\"2021-01-06T13:17:50+00:00\",\"2021-01-05T19:52:50+00:00\",\"2020-12-18T20:49:32+00:00\",\"2020-12-18T11:24:01+00:00\",\"2020-12-18T07:52:18+00:00\",\"2020-12-18T07:27:06+00:00\",\"2020-12-14T21:13:46+00:00\",\"2020-12-10T22:36:51+00:00\",\"2020-12-10T22:08:03+00:00\",\"2020-12-03T22:01:29+00:00\",\"2020-12-03T18:18:37+00:00\",\"2020-11-30T07:05:20+00:00\",\"2020-11-19T21:37:42+00:00\",\"2020-11-19T21:36:58+00:00\",\"2020-11-17T18:21:39+00:00\",\"2020-11-13T08:07:18+00:00\",\"2020-11-05T18:47:10+00:00\",\"2020-11-03T07:44:27+00:00\",\"2020-10-26T16:05:59+00:00\",\"2020-10-22T18:05:10+00:00\",\"2020-10-07T22:30:41+00:00\",\"2020-09-30T10:28:33+00:00\",\"2020-09-29T15:37:25+00:00\",\"2020-09-24T09:01:10+00:00\",\"2020-09-12T20:50:29+00:00\",\"2020-09-11T05:52:39+00:00\",\"2020-09-08T19:45:29+00:00\",\"2020-09-02T07:29:02+00:00\",\"2020-08-31T10:57:04+00:00\",\"2020-08-26T14:23:54+00:00\",\"2020-08-11T22:34:25+00:00\",\"2020-08-11T06:56:22+00:00\",\"2020-08-04T21:13:38+00:00\",\"2020-07-29T18:06:25+00:00\",\"2020-07-16T09:46:23+00:00\",\"2020-07-15T14:09:06+00:00\"],\"nbinsx\":29}];\n            var layout = \"\";\n            Plotly.newPlot('2deae9db-33ea-4ae5-922f-6474d23508d1', data, layout);\n        \r\n});\r\n};\r\n// ensure `require` is available globally\r\nif ((typeof(require) !==  typeof(Function)) || (typeof(require.config) !== typeof(Function))) {\r\n    let require_script = document.createElement('script');\r\n    require_script.setAttribute('src', 'https://cdnjs.cloudflare.com/ajax/libs/require.js/2.3.6/require.min.js');\r\n    require_script.setAttribute('type', 'text/javascript');\r\n    \r\n    \r\n    require_script.onload = function() {\r\n        renderPlotly();\r\n    };\r\n\r\n    document.getElementsByTagName('head')[0].appendChild(require_script);\r\n}\r\nelse {\r\n    renderPlotly();\r\n}\r\n\r\n</script>\r\n"
     },
     "execution_count": 1,
     "metadata": {}
    }
   ]
  }
 ],
 "metadata": {
  "kernelspec": {
   "display_name": ".NET (C#)",
   "language": "C#",
   "name": ".net-csharp"
  },
  "language_info": {
   "file_extension": ".cs",
   "mimetype": "text/x-csharp",
   "name": "C#",
   "pygments_lexer": "csharp",
   "version": "8.0"
  }
 },
 "nbformat": 4,
 "nbformat_minor": 4
}